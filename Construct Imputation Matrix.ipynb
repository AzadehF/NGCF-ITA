{
 "cells": [
  {
   "cell_type": "code",
   "execution_count": null,
   "metadata": {
    "id": "RaaFk14e-95G"
   },
   "outputs": [],
   "source": [
    "import pandas as pd\n",
    "import numpy as np\n",
    "from collections import defaultdict"
   ]
  },
  {
   "cell_type": "code",
   "execution_count": null,
   "metadata": {},
   "outputs": [],
   "source": [
    "class DataLoader:\n",
    "    def __init__(self):\n",
    "        self.user_mapper = {}\n",
    "        self.item_mapper = {}\n",
    "        self.user_counter = 0\n",
    "        self.item_counter = 0\n",
    "\n",
    "    def load_ratings_train(self, file_path):\n",
    "        df = pd.read_csv(file_path, sep=\" \", header=None)\n",
    "        df.columns = ['userId', 'itemId', 'rating']\n",
    "        \n",
    "        df, self.user_mapper, self.item_mapper, self.user_counter, self.item_counter = self._map_entities(df)\n",
    "        \n",
    "        return df, self.user_counter, self.item_counter\n",
    "    def _map_entities(self, df):\n",
    "        for idx, row in df.iterrows():\n",
    "            user_id = row['userId']\n",
    "            item_id = row['itemId']\n",
    "            \n",
    "            if user_id not in self.user_mapper:\n",
    "                self.user_mapper[user_id] = self.user_counter\n",
    "                self.user_counter += 1\n",
    "            if item_id not in self.item_mapper:\n",
    "                self.item_mapper[item_id] = self.item_counter\n",
    "                self.item_counter += 1\n",
    "            \n",
    "            df.at[idx, 'userId'] = self.user_mapper[user_id]\n",
    "            df.at[idx, 'itemId'] = self.item_mapper[item_id]\n",
    "            \n",
    "            df.at[idx, 'rating'] = abs(row['rating'])\n",
    "        \n",
    "        return df, self.user_mapper, self.item_mapper, self.user_counter, self.item_counter\n"
   ]
  },
  {
   "cell_type": "code",
   "execution_count": null,
   "metadata": {},
   "outputs": [],
   "source": [
    "data_loader = DataLoader()\n",
    "\n",
    "# Load ratings data\n",
    "df, userNum, itemNum = data_loader.load_ratings_train(file_path='.../train.txt')\n"
   ]
  },
  {
   "cell_type": "code",
   "execution_count": null,
   "metadata": {
    "id": "0zmPKKCA9J_j"
   },
   "outputs": [],
   "source": [
    "r_mean = {}\n",
    "r_count = {}\n",
    "for i in range(len(df)):\n",
    "    r_mean[df.iloc[i,0]] = 0\n",
    "    r_count[df.iloc[i,0]] = 0\n",
    "for i in range(len(df)):\n",
    "    r_mean[df.iloc[i,0]]+=df.iloc[i,2]\n",
    "    r_count[df.iloc[i,0]] += 1"
   ]
  },
  {
   "cell_type": "code",
   "execution_count": null,
   "metadata": {
    "id": "Tn4zGmaG9MOb"
   },
   "outputs": [],
   "source": [
    "for elem in r_mean:\n",
    "    r_mean[elem] = r_mean[elem] / r_count[elem]"
   ]
  },
  {
   "cell_type": "code",
   "execution_count": null,
   "metadata": {
    "id": "VO257MLs9Ofa"
   },
   "outputs": [],
   "source": [
    "user_itemlist = {}\n",
    "for i in range(len(df)):\n",
    "    user_itemlist[df.iloc[i,0]] = []\n",
    "for i in range(len(df)):\n",
    "    user_itemlist[df.iloc[i,0]] .append(df.iloc[i,1])    \n",
    "            "
   ]
  },
  {
   "cell_type": "code",
   "execution_count": null,
   "metadata": {
    "id": "hGcStmB69u41"
   },
   "outputs": [],
   "source": [
    "item_list = {}\n",
    "for i in range(len(df)):\n",
    "    if df.iloc[i,1] not in item_list:\n",
    "        item_list[df.iloc[i,1]] = 1"
   ]
  },
  {
   "cell_type": "code",
   "execution_count": null,
   "metadata": {
    "id": "6ua7LGkK9wu9"
   },
   "outputs": [],
   "source": [
    "from scipy.sparse import lil_matrix\n",
    "\n",
    "rate = lil_matrix((len(r_mean), len(item_list)))\n",
    "Sim = lil_matrix((len(r_mean),len(r_mean)))"
   ]
  },
  {
   "cell_type": "code",
   "execution_count": null,
   "metadata": {
    "id": "4F8XSQ5y9zTr"
   },
   "outputs": [],
   "source": [
    "for i in range(len(df)):\n",
    "    rate[df.iloc[i,0],df.iloc[i,1]] = df.iloc[i,2]"
   ]
  },
  {
   "cell_type": "markdown",
   "metadata": {},
   "source": [
    "Similarity based on rates"
   ]
  },
  {
   "cell_type": "code",
   "execution_count": null,
   "metadata": {
    "id": "VD8yAr5X92Tq"
   },
   "outputs": [],
   "source": [
    "for user1 in user_itemlist:\n",
    "    for user2 in user_itemlist:\n",
    "        if user1 < user2:\n",
    "            a = 0\n",
    "            b = 0\n",
    "            c = 0\n",
    "            for item in (set(user_itemlist[user1]) & set(user_itemlist[user2])):\n",
    "                a+=(rate[user1,item] - r_mean[user1])*(rate[user2,item] - r_mean[user2])\n",
    "            for item in (user_itemlist[user1]):\n",
    "                b+=(rate[user1,item] - r_mean[user1])*(rate[user1,item] - r_mean[user1])\n",
    "            for item in (user_itemlist[user2]):\n",
    "                c+=(rate[user2,item] - r_mean[user2])*(rate[user2,item] - r_mean[user2])\n",
    "            if a != 0 and b != 0 and c != 0:\n",
    "                Sim[user1,user2] = a / (np.sqrt(b)*np.sqrt(c))\n",
    "                Sim[user2,user1] = a / (np.sqrt(b)*np.sqrt(c))"
   ]
  },
  {
   "cell_type": "code",
   "execution_count": null,
   "metadata": {},
   "outputs": [],
   "source": [
    "from scipy.sparse import coo_matrix\n",
    "aaa = coo_matrix(Sim)"
   ]
  },
  {
   "cell_type": "code",
   "execution_count": null,
   "metadata": {},
   "outputs": [],
   "source": [
    "Sim2 = aaa.toarray()"
   ]
  },
  {
   "cell_type": "code",
   "execution_count": null,
   "metadata": {},
   "outputs": [],
   "source": [
    "def sortSparseMatrix(m, rev=True, only_indices=True):\n",
    "\n",
    "    \"\"\" Sort a sparse matrix and return column index dictionary\n",
    "    \"\"\"\n",
    "    col_dict = dict() \n",
    "    for i in range(m.shape[0]): # assume m is square matrix.\n",
    "        d = m.getrow(i)\n",
    "        s = zip(d.indices, d.data)\n",
    "        sorted_s = sorted(s, key=lambda v: v[1], reverse=True)\n",
    "        if only_indices:\n",
    "            col_dict[i] = [element[0] for element in sorted_s]\n",
    "        else:\n",
    "            col_dict[i] = sorted_s\n",
    "    return col_dict"
   ]
  },
  {
   "cell_type": "code",
   "execution_count": null,
   "metadata": {},
   "outputs": [],
   "source": [
    "Sim_sort = sortSparseMatrix(aaa)"
   ]
  },
  {
   "cell_type": "code",
   "execution_count": null,
   "metadata": {
    "id": "jqYTpOrN-Cc4"
   },
   "outputs": [],
   "source": [
    "k = 5 # number of nearest neighbors\n",
    "sim_sort2 = dict()\n",
    "for elem in Sim_sort:\n",
    "    sim_sort2[elem] = Sim_sort[elem][:k] "
   ]
  },
  {
   "cell_type": "code",
   "execution_count": null,
   "metadata": {
    "id": "w_w4vsdG-EyN"
   },
   "outputs": [],
   "source": [
    "\n",
    "rate_add = lil_matrix((len(r_mean), len(item_list)))\n",
    "for user in r_mean:\n",
    "    for item in item_list:\n",
    "        if rate[user,item] == 0:\n",
    "            a = 0\n",
    "            Sim_sum = 0\n",
    "            in_ = False\n",
    "            for tk in sim_sort2[user]:\n",
    "                if Sim2[user,tk] > 0:\n",
    "                    Sim_sum += Sim2[user,tk]\n",
    "                    if rate[tk,item] != 0:\n",
    "                        a += Sim2[user,tk]*(rate[tk,item] - r_mean[tk])\n",
    "                        in_ = True\n",
    "            if in_:\n",
    "                if (r_mean[user] + a/Sim_sum) > 0:\n",
    "                    rate_add[user,item] = r_mean[user] + a/Sim_sum"
   ]
  },
  {
   "cell_type": "code",
   "execution_count": null,
   "metadata": {
    "id": "Q0ANFS0P-cl0",
    "scrolled": true
   },
   "outputs": [],
   "source": [
    "with open('.../rate_add_+'str(k)+'nn.txt','w') as file_out:\n",
    "    for i in range(len(r_mean)):\n",
    "        for j in range(len(item_list)):\n",
    "            if rate_add[i,j] != 0:\n",
    "                file_out.write(str(i)+' '+str(j)+' '+str(rate_add[i,j])+'\\n')   "
   ]
  }
 ],
 "metadata": {
  "colab": {
   "name": "Imputation Matrix.ipynb",
   "provenance": []
  },
  "kernelspec": {
   "display_name": "Python 3",
   "language": "python",
   "name": "python3"
  },
  "language_info": {
   "codemirror_mode": {
    "name": "ipython",
    "version": 3
   },
   "file_extension": ".py",
   "mimetype": "text/x-python",
   "name": "python",
   "nbconvert_exporter": "python",
   "pygments_lexer": "ipython3",
   "version": "3.7.6"
  }
 },
 "nbformat": 4,
 "nbformat_minor": 1
}
